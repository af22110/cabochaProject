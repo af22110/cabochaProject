{
 "cells": [
  {
   "cell_type": "markdown",
   "id": "cac97b44",
   "metadata": {},
   "source": [
    "# クラスタリング処理ノートブック\n",
    "\n",
    "このノートブックは、`clustering.py` の処理をJupyter Notebook形式で再構成したものです。\n",
    "\n",
    "- 必要なライブラリのインポート\n",
    "- グローバル設定\n",
    "- 初期化処理\n",
    "- 特徴量抽出\n",
    "- クラスタリング\n",
    "- 可視化\n",
    "- 結果の保存\n",
    "\n",
    "各セルを順に実行してください。"
   ]
  },
  {
   "cell_type": "code",
   "execution_count": 1,
   "id": "395eb2e9",
   "metadata": {},
   "outputs": [
    {
     "name": "stderr",
     "output_type": "stream",
     "text": [
      "/home/ubuntu/.local/lib/python3.10/site-packages/tqdm/auto.py:21: TqdmWarning: IProgress not found. Please update jupyter and ipywidgets. See https://ipywidgets.readthedocs.io/en/stable/user_install.html\n",
      "  from .autonotebook import tqdm as notebook_tqdm\n"
     ]
    }
   ],
   "source": [
    "import os\n",
    "import sys\n",
    "import pickle\n",
    "import re\n",
    "import math\n",
    "import time\n",
    "import glob\n",
    "from tqdm.auto import tqdm\n",
    "import numpy as np\n",
    "import pandas as pd\n",
    "import matplotlib.pyplot as plt\n",
    "import japanize_matplotlib\n",
    "from sklearn.preprocessing import StandardScaler\n",
    "from sklearn.cluster import KMeans\n",
    "from sklearn.decomposition import PCA\n",
    "from sklearn.impute import SimpleImputer\n",
    "from sudachipy import dictionary as sudachi_dictionary\n",
    "from sudachipy import tokenizer as sudachi_tokenizer\n",
    "import CaboCha\n",
    "from transformers import AutoModelForCausalLM, AutoTokenizer\n",
    "import torch\n",
    "import pykakasi\n",
    "import Levenshtein\n",
    "import gc"
   ]
  },
  {
   "cell_type": "code",
   "execution_count": 2,
   "id": "a93ed379",
   "metadata": {},
   "outputs": [],
   "source": [
    "# --- グローバル設定 ---\n",
    "INPUT_EXCEL_PATH = '/home/ubuntu/cabochaProject/input_clustering.xlsx'\n",
    "JAPANESE_WORD_LIST_PATH = '/home/ubuntu/cabochaProject/japanese_word_list2.txt'\n",
    "NGRAM_DATA_BASE_PATH = '/home/ubuntu/cabochaProject/nwc2010-ngrams/word/over9'\n",
    "PICKLE_CHUNK_DIR = '/home/ubuntu/cabochaProject/pickle_chunks'\n",
    "OUTPUT_EXCEL_PATH = '/home/ubuntu/cabochaProject/clustering_results.xlsx'\n",
    "OUTPUT_GRAPH_PATH = '/home/ubuntu/cabochaProject/clustering_visualization.png'\n",
    "\n",
    "HF_MODEL_NAME = \"rinna/japanese-gpt2-xsmall\"\n",
    "EDIT_DISTANCE_THRESHOLD_LOG_PROB = -10.8799\n",
    "WORD_3GRAM_THRESHOLD_LOG_PROB = -8.8\n",
    "WORD_3GRAM_ALPHA = 0.001\n",
    "CACHE_CLEAR_INTERVAL = 100"
   ]
  },
  {
   "cell_type": "code",
   "execution_count": 3,
   "id": "cf8aed3b",
   "metadata": {},
   "outputs": [
    {
     "name": "stdout",
     "output_type": "stream",
     "text": [
      "SudachiPy 初期化中...\n",
      "SudachiPy 初期化完了。\n",
      "CaboCha 初期化中...\n",
      "CaboCha 初期化完了。\n",
      "Hugging Faceモデル rinna/japanese-gpt2-xsmall をロード中...\n"
     ]
    },
    {
     "name": "stderr",
     "output_type": "stream",
     "text": [
      "/tmp/ipykernel_233441/236077770.py:3: DeprecationWarning: Parameter dict_type of Dictionary() is deprecated, use dict instead\n",
      "  sudachi_tokenizer_dict_core = sudachi_dictionary.Dictionary(dict_type=\"core\").create()\n",
      "/tmp/ipykernel_233441/236077770.py:4: DeprecationWarning: Parameter dict_type of Dictionary() is deprecated, use dict instead\n",
      "  sudachi_dict_obj_core_for_lookup = sudachi_dictionary.Dictionary(dict_type=\"core\")\n",
      "/tmp/ipykernel_233441/236077770.py:5: DeprecationWarning: Parameter dict_type of Dictionary() is deprecated, use dict instead\n",
      "  sudachi_tokenizer_for_ngram = sudachi_dictionary.Dictionary(dict_type=\"core\").create()\n",
      "You are using the default legacy behaviour of the <class 'transformers.models.t5.tokenization_t5.T5Tokenizer'>. This is expected, and simply means that the `legacy` (previous) behavior will be used so nothing changes for you. If you want to use the new behaviour, set `legacy=False`. This should only be set if you understand what it means, and thoroughly read the reason why this was added as explained in https://github.com/huggingface/transformers/pull/24565\n"
     ]
    },
    {
     "name": "stdout",
     "output_type": "stream",
     "text": [
      "モデルをGPUにロードしました。\n",
      "pykakasi 初期化中...\n",
      "pykakasi 初期化完了。\n",
      "編集距離用辞書データ '/home/ubuntu/cabochaProject/japanese_word_list2.txt' をロード中...\n",
      "217451 件ロードしました。\n"
     ]
    },
    {
     "name": "stderr",
     "output_type": "stream",
     "text": [
      "/tmp/ipykernel_233441/236077770.py:24: DeprecationWarning: Call to deprecated method setMode. (Old API will be removed in v3.0.) -- Deprecated since version 2.1.\n",
      "  kakasi_converter_for_edit_dist.setMode(\"K\", \"E\")\n",
      "/tmp/ipykernel_233441/236077770.py:25: DeprecationWarning: Call to deprecated method setMode. (Old API will be removed in v3.0.) -- Deprecated since version 2.1.\n",
      "  kakasi_converter_for_edit_dist.setMode(\"r\", \"Hepburn\")\n"
     ]
    }
   ],
   "source": [
    "# --- 初期化処理 ---\n",
    "print(\"SudachiPy 初期化中...\")\n",
    "sudachi_tokenizer_dict_core = sudachi_dictionary.Dictionary(dict_type=\"core\").create()\n",
    "sudachi_dict_obj_core_for_lookup = sudachi_dictionary.Dictionary(dict_type=\"core\")\n",
    "sudachi_tokenizer_for_ngram = sudachi_dictionary.Dictionary(dict_type=\"core\").create()\n",
    "print(\"SudachiPy 初期化完了。\")\n",
    "\n",
    "print(\"CaboCha 初期化中...\")\n",
    "cabocha_parser = CaboCha.Parser()\n",
    "print(\"CaboCha 初期化完了。\")\n",
    "\n",
    "print(f\"Hugging Faceモデル {HF_MODEL_NAME} をロード中...\")\n",
    "hf_tokenizer_for_edit_dist = AutoTokenizer.from_pretrained(HF_MODEL_NAME)\n",
    "hf_model_for_edit_dist = AutoModelForCausalLM.from_pretrained(HF_MODEL_NAME)\n",
    "hf_model_for_edit_dist.eval()\n",
    "if torch.cuda.is_available():\n",
    "    hf_model_for_edit_dist.to(torch.device(\"cuda\"))\n",
    "    print(\"モデルをGPUにロードしました。\")\n",
    "else:\n",
    "    print(\"モデルをCPUにロードしました。\")\n",
    "\n",
    "print(\"pykakasi 初期化中...\")\n",
    "kakasi_converter_for_edit_dist = pykakasi.kakasi()\n",
    "kakasi_converter_for_edit_dist.setMode(\"K\", \"E\")\n",
    "kakasi_converter_for_edit_dist.setMode(\"r\", \"Hepburn\")\n",
    "print(\"pykakasi 初期化完了。\")\n",
    "\n",
    "print(f\"編集距離用辞書データ '{JAPANESE_WORD_LIST_PATH}' をロード中...\")\n",
    "all_dictionary_data_for_edit_dist = []\n",
    "with open(JAPANESE_WORD_LIST_PATH, 'r', encoding='utf-8') as f:\n",
    "    for line in f:\n",
    "        line = line.strip()\n",
    "        if not line or line.startswith('#'): continue\n",
    "        parts = line.split('\\t')\n",
    "        if len(parts) >= 2 and parts[0] and parts[1]:\n",
    "            all_dictionary_data_for_edit_dist.append((parts[0], parts[1]))\n",
    "print(f\"{len(all_dictionary_data_for_edit_dist)} 件ロードしました。\")"
   ]
  },
  {
   "cell_type": "code",
   "execution_count": 4,
   "id": "54905ce6",
   "metadata": {},
   "outputs": [],
   "source": [
    "# --- 特徴量計算関数群 ---\n",
    "import gc\n",
    "from sudachipy import tokenizer as sudachi_tokenizer\n",
    "from sudachipy import dictionary as sudachi_dictionary\n",
    "import torch\n",
    "import re\n",
    "import sys\n",
    "import Levenshtein\n",
    "from tqdm import tqdm\n",
    "\n",
    "def check_word_in_sudachi_dictionary_revised(word, dict_obj):\n",
    "    morphemes = dict_obj.lookup(word)\n",
    "    return len(morphemes) > 0\n",
    "\n",
    "def calculate_dict_feature(text, tokenizer_obj, dict_obj_for_lookup_func):\n",
    "    if not text or not isinstance(text, str): return 1\n",
    "    try:\n",
    "        mode_b = sudachi_tokenizer.Tokenizer.SplitMode.B\n",
    "        morphemes = tokenizer_obj.tokenize(text, mode_b)\n",
    "        found_undefined_noun = False\n",
    "        noun_count = 0\n",
    "        for m in morphemes:\n",
    "            pos = m.part_of_speech()\n",
    "            if pos and pos[0] == '名詞':\n",
    "                noun_count += 1\n",
    "                base_form = m.normalized_form()\n",
    "                if not check_word_in_sudachi_dictionary_revised(base_form, dict_obj_for_lookup_func):\n",
    "                    found_undefined_noun = True\n",
    "                    break\n",
    "        if noun_count == 0: return 0\n",
    "        del morphemes\n",
    "        gc.collect()\n",
    "        return 1 if found_undefined_noun else 0\n",
    "    except Exception as e:\n",
    "        print(f\"辞書照合エラー: {e} - テキスト: {text[:50]}...\")\n",
    "        return 1\n",
    "\n",
    "def calculate_cabocha_features(text, parser):\n",
    "    if not text or not isinstance(text, str): return 0.0, 0.0\n",
    "    if parser is None:\n",
    "        return 0.0, 0.0\n",
    "    try:\n",
    "        tree = parser.parse(text)\n",
    "        chunks = [tree.chunk(i) for i in range(tree.chunk_size())]\n",
    "        if not chunks:\n",
    "            del tree\n",
    "            return 0.0, 0.0\n",
    "        token_to_chunk = [None] * tree.token_size()\n",
    "        for ci, ch in enumerate(chunks):\n",
    "            start = ch.token_pos\n",
    "            size = ch.token_size\n",
    "            for ti in range(start, start + size):\n",
    "                if ti < len(token_to_chunk):\n",
    "                    token_to_chunk[ti] = ci\n",
    "        token_distances = []\n",
    "        for ti in range(tree.token_size()):\n",
    "            if ti >= len(token_to_chunk) or token_to_chunk[ti] is None: continue\n",
    "            ci = token_to_chunk[ti]\n",
    "            if ci >= len(chunks): continue\n",
    "            head_ci = chunks[ci].link\n",
    "            if head_ci >= 0 and head_ci < len(chunks):\n",
    "                head_token_pos = chunks[head_ci].token_pos\n",
    "                token_distances.append(abs(ti - head_token_pos))\n",
    "        var_td = 0.0\n",
    "        if token_distances:\n",
    "            mean_td = sum(token_distances) / len(token_distances)\n",
    "            var_td = sum((d - mean_td) ** 2 for d in token_distances) / len(token_distances)\n",
    "            del mean_td\n",
    "        del token_distances\n",
    "        scores = [ch.score for ch in chunks if ch.score is not None]\n",
    "        var_sc = 0.0\n",
    "        if scores:\n",
    "            mean_sc = sum(scores) / len(scores)\n",
    "            var_sc = sum((s - mean_sc) ** 2 for s in scores) / len(scores)\n",
    "            del mean_sc\n",
    "        del scores\n",
    "        del tree, chunks, token_to_chunk\n",
    "        gc.collect()\n",
    "        return var_td, var_sc\n",
    "    except Exception as e:\n",
    "        print(f\"CaboCha特徴量計算エラー: {e} - テキスト: {text[:50]}...\")\n",
    "        return 0.0, 0.0\n",
    "\n",
    "def is_jukugo_for_edit_dist(word):\n",
    "    return bool(re.match(r'^[\\u4E00-\\u9FFF]{2,}$', word))\n",
    "\n",
    "def katakana_to_romaji_for_edit_dist(katakana_text, kakasi_cv):\n",
    "    if not katakana_text: return \"\"\n",
    "    try:\n",
    "        return \"\".join([item.get('hepburn', item.get('orig', '')) for item in kakasi_cv.convert(katakana_text)]).lower()\n",
    "    except Exception: return \"___romaji_error___\"\n",
    "\n",
    "def estimate_segment_reading_for_edit_dist(segment_kanji, dictionary_data):\n",
    "    min_dist = sys.maxsize\n",
    "    est_reading = None\n",
    "    if not dictionary_data: return None\n",
    "    for kanji, reading in dictionary_data:\n",
    "        if not kanji: continue\n",
    "        dist = Levenshtein.distance(segment_kanji, kanji)\n",
    "        if dist < min_dist:\n",
    "            min_dist = dist\n",
    "            est_reading = reading\n",
    "            if min_dist == 0: break\n",
    "    return est_reading\n",
    "\n",
    "def find_kanji_candidates_by_distance_for_edit_dist(segment_kanji, dictionary_data, max_dist=2, jukugo_only=True):\n",
    "    candidates = []\n",
    "    dict_to_search = dictionary_data\n",
    "    if jukugo_only:\n",
    "        jukugo_dict = [(k, r) for k, r in dictionary_data if is_jukugo_for_edit_dist(k)]\n",
    "        if jukugo_dict: dict_to_search = jukugo_dict\n",
    "    min_found_dist = sys.maxsize\n",
    "    temp_candidates = []\n",
    "    for kanji, reading in dict_to_search:\n",
    "        if not kanji: continue\n",
    "        dist = Levenshtein.distance(segment_kanji, kanji)\n",
    "        if dist <= max_dist:\n",
    "             temp_candidates.append({'kanji': kanji, 'reading': reading, 'dist': dist})\n",
    "        if dist < min_found_dist:\n",
    "            min_found_dist = dist\n",
    "    if not temp_candidates and min_found_dist != sys.maxsize:\n",
    "         for kanji, reading in dict_to_search:\n",
    "            if not kanji: continue\n",
    "            dist = Levenshtein.distance(segment_kanji, kanji)\n",
    "            if dist == min_found_dist:\n",
    "                temp_candidates.append({'kanji': kanji, 'reading': reading, 'dist': dist})\n",
    "    seen_kanji = set()\n",
    "    for cand_info in sorted(temp_candidates, key=lambda x: x['dist']):\n",
    "        if cand_info['kanji'] not in seen_kanji:\n",
    "            candidates.append((cand_info['kanji'], cand_info['reading'], cand_info['dist']))\n",
    "            seen_kanji.add(cand_info['kanji'])\n",
    "    del temp_candidates, seen_kanji, dict_to_search\n",
    "    gc.collect()\n",
    "    return candidates\n",
    "\n",
    "def find_best_candidate_romaji_rerank_for_edit_dist(est_seg_reading_romaji, initial_candidates, kakasi_cv):\n",
    "    min_romaji_dist = sys.maxsize\n",
    "    best_cand_kanji, best_cand_reading, best_kanji_dist_orig = None, None, sys.maxsize\n",
    "    if est_seg_reading_romaji in [\"\", \"___romaji_error___\"] or not initial_candidates:\n",
    "        return None, sys.maxsize\n",
    "    for kanji, reading, kanji_dist in initial_candidates:\n",
    "        cand_reading_romaji = katakana_to_romaji_for_edit_dist(reading, kakasi_cv)\n",
    "        if cand_reading_romaji == \"___romaji_error___\": continue\n",
    "        romaji_dist = Levenshtein.distance(est_seg_reading_romaji, cand_reading_romaji)\n",
    "        if romaji_dist < min_romaji_dist:\n",
    "            min_romaji_dist = romaji_dist\n",
    "            best_cand_kanji = kanji\n",
    "            best_cand_reading = reading\n",
    "            best_kanji_dist_orig = kanji_dist\n",
    "    if best_cand_kanji is None: return None, sys.maxsize\n",
    "    return best_cand_kanji, best_kanji_dist_orig\n",
    "\n",
    "def calculate_edit_distance_feature(text, tokenizer, model, dictionary_data, kakasi_cv, threshold_log_p):\n",
    "    if not text or not isinstance(text, str): return 0.0\n",
    "    try:\n",
    "        device = next(model.parameters()).device\n",
    "        inputs = tokenizer(text, return_tensors=\"pt\", return_offsets_mapping=True, truncation=True, max_length=512)\n",
    "        input_ids = inputs[\"input_ids\"].to(device)\n",
    "        offset_mapping = inputs[\"offset_mapping\"].squeeze().tolist()\n",
    "        kanji_segments_info = []\n",
    "        for match in re.finditer(r'[\\u4E00-\\u9FFF]{2,}', text):\n",
    "            kanji_segments_info.append({'segment': match.group(0), 'start_char': match.start(), 'end_char': match.end()})\n",
    "        if not kanji_segments_info:\n",
    "            del inputs, input_ids, offset_mapping\n",
    "            gc.collect()\n",
    "            return 0.0\n",
    "        with torch.no_grad():\n",
    "            outputs = model(input_ids)\n",
    "            logits = outputs.logits\n",
    "        log_probs_full_sequence = torch.log_softmax(logits, dim=-1).squeeze(0)\n",
    "        del outputs, logits\n",
    "        segment_scores = []\n",
    "        for seg_info in kanji_segments_info:\n",
    "            segment_str = seg_info['segment']\n",
    "            seg_start_char_idx = seg_info['start_char']\n",
    "            hf_indices_for_segment = []\n",
    "            for hf_token_idx, (tok_char_start, tok_char_end) in enumerate(offset_mapping):\n",
    "                if tok_char_start >= seg_start_char_idx and tok_char_end <= seg_info['end_char']:\n",
    "                    if hf_token_idx > 0 and hf_token_idx < input_ids.shape[1]:\n",
    "                        hf_indices_for_segment.append(hf_token_idx)\n",
    "            avg_log_prob = -float('inf')\n",
    "            if hf_indices_for_segment:\n",
    "                log_prob_sum = 0\n",
    "                valid_tokens = 0\n",
    "                for hf_idx in hf_indices_for_segment:\n",
    "                    token_id = input_ids[0, hf_idx].item()\n",
    "                    if hf_idx -1 < log_probs_full_sequence.shape[0]:\n",
    "                        log_prob_sum += log_probs_full_sequence[hf_idx-1, token_id].item()\n",
    "                        valid_tokens +=1\n",
    "                avg_log_prob = log_prob_sum / valid_tokens if valid_tokens > 0 else -float('inf')\n",
    "            segment_scores.append({'segment': segment_str, 'avg_log_prob': avg_log_prob})\n",
    "        del inputs, input_ids, offset_mapping, log_probs_full_sequence, kanji_segments_info\n",
    "        gc.collect()\n",
    "        if not segment_scores: return 0.0\n",
    "        min_score = float('inf')\n",
    "        segment_with_min_score_str = None\n",
    "        valid_scores = [s for s in segment_scores if s['avg_log_prob'] > -float('inf')]\n",
    "        if not valid_scores:\n",
    "            del segment_scores\n",
    "            gc.collect()\n",
    "            return 0.0\n",
    "        segment_with_min_score = min(valid_scores, key=lambda x: x['avg_log_prob'])\n",
    "        min_score = segment_with_min_score['avg_log_prob']\n",
    "        segment_with_min_score_str = segment_with_min_score['segment']\n",
    "        del segment_scores, valid_scores\n",
    "        gc.collect()\n",
    "        edit_distance_val = 0.0\n",
    "        if min_score < threshold_log_p and segment_with_min_score_str:\n",
    "            target_segment = segment_with_min_score_str\n",
    "            est_reading = estimate_segment_reading_for_edit_dist(target_segment, dictionary_data)\n",
    "            if not est_reading:\n",
    "                edit_distance_val = float(len(target_segment))\n",
    "            else:\n",
    "                est_reading_romaji = katakana_to_romaji_for_edit_dist(est_reading, kakasi_cv)\n",
    "                if est_reading_romaji == \"___romaji_error___\":\n",
    "                    edit_distance_val = float(len(target_segment))\n",
    "                else:\n",
    "                    initial_candidates = find_kanji_candidates_by_distance_for_edit_dist(target_segment, dictionary_data)\n",
    "                    if not initial_candidates:\n",
    "                        edit_distance_val = float(len(target_segment))\n",
    "                    else:\n",
    "                        best_cand_kanji, _ = find_best_candidate_romaji_rerank_for_edit_dist(est_reading_romaji, initial_candidates, kakasi_cv)\n",
    "                        if best_cand_kanji:\n",
    "                            edit_distance_val = float(Levenshtein.distance(target_segment, best_cand_kanji))\n",
    "                        else:\n",
    "                            edit_distance_val = float(len(target_segment))\n",
    "                        del initial_candidates\n",
    "            del est_reading\n",
    "        gc.collect()\n",
    "        return edit_distance_val\n",
    "    except Exception as e:\n",
    "        print(f\"編集距離計算エラー: {e} - テキスト: {text[:50]}...\")\n",
    "        if 'inputs' in locals(): del inputs\n",
    "        if 'input_ids' in locals(): del input_ids\n",
    "        if 'offset_mapping' in locals(): del offset_mapping\n",
    "        if 'outputs' in locals(): del outputs\n",
    "        if 'logits' in locals(): del log_probs_full_sequence\n",
    "        if 'segment_scores' in locals(): del segment_scores\n",
    "        if 'valid_scores' in locals(): del valid_scores\n",
    "        gc.collect()\n",
    "        return 0.0\n",
    "\n",
    "def collect_ngram_counts_from_pickles(pickle_paths, texts, n=2):\n",
    "    global sudachi_tokenizer_for_ngram\n",
    "    if sudachi_tokenizer_for_ngram is None:\n",
    "        sudachi_tokenizer_for_ngram = sudachi_dictionary.Dictionary(dict_type=\"core\").create()\n",
    "    mode = sudachi_tokenizer.Tokenizer.SplitMode.C\n",
    "    ngram_set = set()\n",
    "    for text in texts:\n",
    "        try:\n",
    "            morphemes = [m.surface() for m in sudachi_tokenizer_for_ngram.tokenize(text, mode)]\n",
    "            for i in range(len(morphemes) - n + 1):\n",
    "                ngram = tuple(morphemes[i:i+n])\n",
    "                ngram_set.add(ngram)\n",
    "        except Exception as e:\n",
    "            print(f\"形態素解析エラー: {e} - テキスト: {text[:30]}...\")\n",
    "            continue\n",
    "    print(f\"全テキストから抽出されたユニーク{n}-gram数: {len(ngram_set)}\")\n",
    "    ngram_count_dict = dict()\n",
    "    for pkl_path in tqdm(pickle_paths, desc=f\"{n}-gramピックル逐次処理\"):\n",
    "        try:\n",
    "            with open(pkl_path, 'rb') as f:\n",
    "                chunk = pickle.load(f)\n",
    "                counts = chunk.get('counts', {})\n",
    "                for ngram in ngram_set:\n",
    "                    if ngram in counts:\n",
    "                        ngram_count_dict[ngram] = counts[ngram]\n",
    "            del chunk, counts\n",
    "            gc.collect()\n",
    "        except Exception as e:\n",
    "            print(f\"ピックルファイル読み込みエラー: {e} - {pkl_path}\")\n",
    "            continue\n",
    "    print(f\"集計された{n}-gram数: {len(ngram_count_dict)}\")\n",
    "    return ngram_count_dict"
   ]
  },
  {
   "cell_type": "code",
   "execution_count": 5,
   "id": "8ec7c044",
   "metadata": {},
   "outputs": [
    {
     "name": "stdout",
     "output_type": "stream",
     "text": [
      "入力ファイル '/home/ubuntu/cabochaProject/input_clustering.xlsx' を読み込み中...\n",
      "969 件のテキストを読み込みました。\n",
      "全テキストから抽出されたユニーク3-gram数: 30167\n"
     ]
    },
    {
     "name": "stderr",
     "output_type": "stream",
     "text": [
      "3-gramピックル逐次処理: 100%|██████████| 38/38 [05:25<00:00,  8.56s/it]\n"
     ]
    },
    {
     "name": "stdout",
     "output_type": "stream",
     "text": [
      "集計された3-gram数: 17350\n",
      "全テキストから抽出されたユニーク2-gram数: 23813\n"
     ]
    },
    {
     "name": "stderr",
     "output_type": "stream",
     "text": [
      "2-gramピックル逐次処理: 100%|██████████| 9/9 [00:56<00:00,  6.28s/it]\n"
     ]
    },
    {
     "name": "stdout",
     "output_type": "stream",
     "text": [
      "集計された2-gram数: 17383\n"
     ]
    },
    {
     "name": "stderr",
     "output_type": "stream",
     "text": [
      "特徴量抽出中:  10%|█         | 100/969 [03:22<16:08,  1.11s/it] "
     ]
    },
    {
     "name": "stdout",
     "output_type": "stream",
     "text": [
      "\n",
      "100件処理後、キャッシュをクリアします。\n"
     ]
    },
    {
     "name": "stderr",
     "output_type": "stream",
     "text": [
      "特徴量抽出中:  21%|██        | 200/969 [06:52<24:55,  1.94s/it]"
     ]
    },
    {
     "name": "stdout",
     "output_type": "stream",
     "text": [
      "\n",
      "200件処理後、キャッシュをクリアします。\n"
     ]
    },
    {
     "name": "stderr",
     "output_type": "stream",
     "text": [
      "特徴量抽出中:  31%|███       | 300/969 [10:12<13:23,  1.20s/it]"
     ]
    },
    {
     "name": "stdout",
     "output_type": "stream",
     "text": [
      "\n",
      "300件処理後、キャッシュをクリアします。\n"
     ]
    },
    {
     "name": "stderr",
     "output_type": "stream",
     "text": [
      "特徴量抽出中:  41%|████▏     | 400/969 [13:31<30:20,  3.20s/it]"
     ]
    },
    {
     "name": "stdout",
     "output_type": "stream",
     "text": [
      "\n",
      "400件処理後、キャッシュをクリアします。\n"
     ]
    },
    {
     "name": "stderr",
     "output_type": "stream",
     "text": [
      "特徴量抽出中:  52%|█████▏    | 500/969 [16:41<14:15,  1.82s/it]"
     ]
    },
    {
     "name": "stdout",
     "output_type": "stream",
     "text": [
      "\n",
      "500件処理後、キャッシュをクリアします。\n"
     ]
    },
    {
     "name": "stderr",
     "output_type": "stream",
     "text": [
      "特徴量抽出中:  62%|██████▏   | 600/969 [20:16<09:41,  1.58s/it]"
     ]
    },
    {
     "name": "stdout",
     "output_type": "stream",
     "text": [
      "\n",
      "600件処理後、キャッシュをクリアします。\n"
     ]
    },
    {
     "name": "stderr",
     "output_type": "stream",
     "text": [
      "特徴量抽出中:  72%|███████▏  | 700/969 [23:27<05:18,  1.18s/it]"
     ]
    },
    {
     "name": "stdout",
     "output_type": "stream",
     "text": [
      "\n",
      "700件処理後、キャッシュをクリアします。\n"
     ]
    },
    {
     "name": "stderr",
     "output_type": "stream",
     "text": [
      "特徴量抽出中:  83%|████████▎ | 800/969 [26:11<03:35,  1.27s/it]"
     ]
    },
    {
     "name": "stdout",
     "output_type": "stream",
     "text": [
      "\n",
      "800件処理後、キャッシュをクリアします。\n"
     ]
    },
    {
     "name": "stderr",
     "output_type": "stream",
     "text": [
      "特徴量抽出中:  93%|█████████▎| 900/969 [28:46<01:16,  1.11s/it]"
     ]
    },
    {
     "name": "stdout",
     "output_type": "stream",
     "text": [
      "\n",
      "900件処理後、キャッシュをクリアします。\n"
     ]
    },
    {
     "name": "stderr",
     "output_type": "stream",
     "text": [
      "特徴量抽出中: 100%|██████████| 969/969 [30:47<00:00,  1.91s/it]\n"
     ]
    }
   ],
   "source": [
    "# --- 特徴量抽出 ---\n",
    "print(f\"入力ファイル '{INPUT_EXCEL_PATH}' を読み込み中...\")\n",
    "df_input = pd.read_excel(INPUT_EXCEL_PATH, header=None, usecols=[0])\n",
    "texts_to_cluster = df_input.iloc[:, 0].astype(str).tolist()\n",
    "print(f\"{len(texts_to_cluster)} 件のテキストを読み込みました。\")\n",
    "\n",
    "def get_pickle_paths():\n",
    "    import glob\n",
    "    all_bigram_chunk_paths = sorted(glob.glob(os.path.join(PICKLE_CHUNK_DIR, \"2gram_*.pkl\")))\n",
    "    all_trigram_chunk_paths = sorted(glob.glob(os.path.join(PICKLE_CHUNK_DIR, \"3gram_*.pkl\")))\n",
    "    return all_bigram_chunk_paths, all_trigram_chunk_paths\n",
    "\n",
    "all_bigram_chunk_paths, all_trigram_chunk_paths = get_pickle_paths()\n",
    "trigram_counts = collect_ngram_counts_from_pickles(all_trigram_chunk_paths, texts_to_cluster, n=3)\n",
    "bigram_counts = collect_ngram_counts_from_pickles(all_bigram_chunk_paths, texts_to_cluster, n=2)\n",
    "\n",
    "gc.collect()\n",
    "\n",
    "all_features = []\n",
    "feature_names = [\"熟語編集距離\", \"単語3-gram異常度\", \"Token依存距離分散\", \"係り受けスコア分散\", \"辞書照合\"]\n",
    "total_vocab_size_ngram = 0\n",
    "if trigram_counts:\n",
    "    all_words = set()\n",
    "    for ngram in trigram_counts.keys():\n",
    "        all_words.update(ngram)\n",
    "    for ngram in bigram_counts.keys():\n",
    "        all_words.update(ngram)\n",
    "    total_vocab_size_ngram = len(all_words)\n",
    "else:\n",
    "    total_vocab_size_ngram = 0\n",
    "\n",
    "for text_idx, text_content in tqdm(enumerate(texts_to_cluster), total=len(texts_to_cluster), desc=\"特徴量抽出中\"):\n",
    "    if text_idx > 0 and text_idx % CACHE_CLEAR_INTERVAL == 0:\n",
    "        print(f\"\\n{text_idx}件処理後、キャッシュをクリアします。\")\n",
    "        gc.collect()\n",
    "    f_edit_dist = calculate_edit_distance_feature(\n",
    "        text_content, hf_tokenizer_for_edit_dist, hf_model_for_edit_dist,\n",
    "        all_dictionary_data_for_edit_dist, kakasi_converter_for_edit_dist,\n",
    "        EDIT_DISTANCE_THRESHOLD_LOG_PROB\n",
    "    )\n",
    "    try:\n",
    "        morphemes = [m.surface() for m in sudachi_tokenizer_for_ngram.tokenize(text_content, sudachi_tokenizer.Tokenizer.SplitMode.C)]\n",
    "        sentence_end_punctuations = {'。', '！', '？', '．', '!'}\n",
    "        all_log_probs = []\n",
    "        current_segment = []\n",
    "        for m in morphemes:\n",
    "            if m in sentence_end_punctuations:\n",
    "                if len(current_segment) >= 3:\n",
    "                    for i in range(len(current_segment) - 2):\n",
    "                        w1, w2, w3 = current_segment[i], current_segment[i+1], current_segment[i+2]\n",
    "                        count_w1_w2_w3 = trigram_counts.get((w1, w2, w3), 0)\n",
    "                        count_w1_w2 = bigram_counts.get((w1, w2), 0)\n",
    "                        numerator = count_w1_w2_w3 + WORD_3GRAM_ALPHA\n",
    "                        denominator = count_w1_w2 + WORD_3GRAM_ALPHA * total_vocab_size_ngram\n",
    "                        log_prob = -float('inf') if denominator == 0 else np.log(numerator) - np.log(denominator)\n",
    "                        all_log_probs.append(log_prob)\n",
    "                current_segment = []\n",
    "            else:\n",
    "                current_segment.append(m)\n",
    "        if len(current_segment) >= 3:\n",
    "            for i in range(len(current_segment) - 2):\n",
    "                w1, w2, w3 = current_segment[i], current_segment[i+1], current_segment[i+2]\n",
    "                count_w1_w2_w3 = trigram_counts.get((w1, w2, w3), 0)\n",
    "                count_w1_w2 = bigram_counts.get((w1, w2), 0)\n",
    "                numerator = count_w1_w2_w3 + WORD_3GRAM_ALPHA\n",
    "                denominator = count_w1_w2 + WORD_3GRAM_ALPHA * total_vocab_size_ngram\n",
    "                log_prob = -float('inf') if denominator == 0 else np.log(numerator) - np.log(denominator)\n",
    "                all_log_probs.append(log_prob)\n",
    "        is_unnatural = any(prob < WORD_3GRAM_THRESHOLD_LOG_PROB for prob in all_log_probs if prob != -float('inf'))\n",
    "        f_3gram = 3 if is_unnatural else 0\n",
    "        del morphemes, current_segment, all_log_probs\n",
    "        gc.collect()\n",
    "    except Exception as e:\n",
    "        print(f\"3-gram特徴量計算エラー: {e} - テキスト: {text_content[:50]}...\")\n",
    "        f_3gram = 0\n",
    "    f_token_dist, f_dep_score = calculate_cabocha_features(text_content, cabocha_parser)\n",
    "    f_dict = calculate_dict_feature(text_content, sudachi_tokenizer_dict_core, sudachi_dict_obj_core_for_lookup)\n",
    "    all_features.append([f_edit_dist, f_3gram, f_token_dist, f_dep_score, f_dict])\n",
    "    del f_edit_dist, f_3gram, f_token_dist, f_dep_score, f_dict\n",
    "    if text_idx % (CACHE_CLEAR_INTERVAL * 2) == 0 and text_idx > 0:\n",
    "        gc.collect()\n",
    "features_matrix = np.array(all_features, dtype=np.float32)\n",
    "del all_features\n",
    "gc.collect()\n",
    "features_matrix_imputed = SimpleImputer(strategy='mean').fit_transform(features_matrix)\n",
    "del features_matrix\n",
    "gc.collect()\n",
    "features_scaled = StandardScaler().fit_transform(features_matrix_imputed)"
   ]
  },
  {
   "cell_type": "code",
   "execution_count": 11,
   "id": "a717a257",
   "metadata": {},
   "outputs": [],
   "source": [
    "# --- クラスタリング ---\n",
    "sse = []\n",
    "k_range = range(1, min(10, len(texts_to_cluster)))\n",
    "for k_val in k_range:\n",
    "    kmeans_elbow = KMeans(n_clusters=k_val, random_state=42, n_init='auto')\n",
    "    kmeans_elbow.fit(features_scaled)\n",
    "    sse.append(kmeans_elbow.inertia_)\n",
    "\n",
    "optimal_k_val = 5  # KneeLocator等で自動決定も可\n",
    "kmeans = KMeans(n_clusters=optimal_k_val, random_state=42, n_init='auto')\n",
    "cluster_labels = kmeans.fit_predict(features_scaled)"
   ]
  },
  {
   "cell_type": "code",
   "execution_count": 12,
   "id": "4946f2cc",
   "metadata": {},
   "outputs": [
    {
     "data": {
      "text/plain": [
       "array([0, 1, 0, 0, 0, 1, 1, 3, 3, 3, 1, 0, 1, 1, 0, 0, 1, 0, 1, 0, 0, 3,\n",
       "       2, 1, 0, 1, 0, 1, 1, 1, 1, 0, 1, 0, 3, 1, 0, 1, 1, 0, 0, 0, 0, 2,\n",
       "       0, 1, 1, 1, 1, 1, 1, 0, 0, 0, 0, 1, 0, 3, 1, 1, 1, 1, 1, 0, 1, 1,\n",
       "       0, 2, 0, 1, 0, 3, 0, 2, 1, 1, 0, 1, 1, 0, 1, 1, 1, 0, 1, 1, 1, 1,\n",
       "       1, 0, 0, 2, 1, 3, 0, 1, 1, 0, 0, 0, 1, 1, 0, 0, 0, 0, 1, 1, 3, 1,\n",
       "       0, 0, 0, 0, 1, 2, 2, 1, 1, 0, 1, 0, 0, 0, 0, 1, 1, 0, 2, 0, 0, 1,\n",
       "       1, 1, 1, 1, 1, 0, 0, 1, 1, 0, 0, 0, 0, 0, 1, 0, 0, 0, 0, 1, 0, 1,\n",
       "       1, 0, 0, 1, 1, 1, 1, 2, 1, 1, 0, 0, 1, 1, 3, 0, 1, 3, 1, 1, 1, 1,\n",
       "       2, 1, 0, 0, 1, 0, 0, 1, 1, 1, 0, 0, 1, 1, 0, 0, 1, 1, 0, 1, 1, 1,\n",
       "       0, 0, 0, 1, 0, 2, 1, 0, 1, 0, 1, 1, 1, 0, 1, 0, 0, 0, 1, 1, 1, 1,\n",
       "       0, 0, 1, 0, 0, 0, 1, 0, 1, 2, 1, 3, 0, 1, 0, 1, 2, 2, 1, 1, 1, 1,\n",
       "       1, 0, 1, 1, 0, 0, 1, 2, 1, 1, 1, 1, 0, 3, 0, 1, 1, 0, 0, 0, 1, 0,\n",
       "       1, 1, 2, 1, 1, 0, 0, 0, 0, 1, 0, 0, 1, 3, 0, 1, 1, 0, 2, 1, 3, 1,\n",
       "       2, 1, 0, 1, 0, 0, 0, 1, 0, 0, 0, 1, 1, 1, 0, 1, 1, 1, 1, 1, 1, 3,\n",
       "       0, 0, 0, 1, 0, 0, 1, 1, 1, 0, 1, 0, 0, 1, 1, 1, 2, 0, 1, 1, 0, 0,\n",
       "       1, 2, 2, 0, 1, 1, 1, 1, 3, 1, 0, 0, 1, 0, 0, 1, 2, 1, 1, 0, 1, 0,\n",
       "       1, 1, 1, 1, 3, 0, 1, 1, 0, 1, 0, 1, 2, 1, 2, 1, 0, 3, 1, 2, 1, 0,\n",
       "       3, 1, 1, 0, 0, 0, 1, 1, 1, 0, 0, 1, 0, 1, 2, 0, 1, 0, 3, 2, 0, 3,\n",
       "       1, 1, 1, 1, 0, 0, 2, 1, 3, 0, 1, 1, 1, 1, 2, 0, 1, 0, 0, 0, 0, 0,\n",
       "       0, 1, 1, 3, 1, 1, 0, 0, 1, 1, 0, 0, 0, 0, 0, 0, 0, 2, 1, 1, 1, 0,\n",
       "       0, 0, 0, 0, 1, 0, 3, 3, 3, 1, 0, 1, 1, 0, 0, 1, 0, 0, 3, 0, 1, 0,\n",
       "       1, 0, 1, 0, 1, 1, 1, 0, 1, 0, 0, 1, 1, 0, 1, 0, 0, 1, 0, 0, 3, 0,\n",
       "       3, 0, 2, 1, 1, 0, 0, 0, 0, 1, 0, 0, 0, 1, 1, 1, 1, 1, 0, 1, 0, 1,\n",
       "       0, 0, 0, 1, 2, 1, 1, 0, 1, 0, 0, 0, 1, 0, 1, 0, 3, 1, 0, 2, 0, 1,\n",
       "       0, 0, 3, 0, 1, 1, 0, 2, 1, 0, 3, 0, 0, 0, 1, 0, 1, 0, 3, 1, 0, 0,\n",
       "       0, 1, 0, 1, 1, 0, 3, 1, 0, 0, 1, 0, 1, 2, 1, 1, 0, 1, 0, 0, 3, 0,\n",
       "       0, 1, 0, 0, 0, 0, 1, 1, 1, 2, 3, 3, 1, 3, 0, 1, 0, 0, 0, 1, 1, 1,\n",
       "       2, 0, 0, 0, 0, 0, 0, 1, 0, 0, 1, 0, 0, 1, 1, 0, 0, 0, 1, 0, 3, 1,\n",
       "       1, 1, 1, 1, 4, 2, 2, 0, 0, 1, 2, 1, 2, 1, 0, 1, 1, 1, 1, 0, 0, 1,\n",
       "       0, 0, 0, 0, 0, 1, 0, 1, 0, 1, 0, 1, 0, 1, 3, 0, 1, 1, 1, 0, 0, 2,\n",
       "       3, 0, 0, 1, 1, 0, 1, 1, 0, 0, 1, 0, 0, 0, 0, 3, 0, 0, 0, 0, 0, 0,\n",
       "       0, 2, 0, 0, 0, 0, 1, 0, 0, 0, 0, 1, 0, 0, 0, 0, 0, 0, 0, 0, 1, 0,\n",
       "       0, 0, 0, 0, 1, 0, 0, 1, 0, 0, 0, 0, 1, 1, 0, 3, 0, 0, 0, 0, 0, 0,\n",
       "       0, 0, 0, 0, 0, 0, 1, 0, 0, 0, 0, 0, 0, 0, 0, 1, 0, 0, 2, 1, 2, 1,\n",
       "       1, 1, 0, 0, 2, 1, 0, 1, 1, 0, 0, 1, 1, 1, 0, 0, 1, 1, 0, 1, 0, 1,\n",
       "       1, 0, 1, 3, 3, 0, 0, 2, 0, 3, 0, 1, 1, 1, 1, 3, 1, 0, 1, 1, 1, 1,\n",
       "       1, 1, 0, 0, 1, 0, 0, 0, 0, 1, 3, 0, 0, 1, 0, 1, 1, 1, 1, 0, 1, 0,\n",
       "       0, 0, 1, 1, 1, 1, 0, 0, 0, 0, 1, 1, 0, 1, 1, 1, 1, 1, 0, 1, 0, 0,\n",
       "       1, 1, 0, 1, 0, 1, 0, 1, 1, 0, 0, 0, 0, 1, 4, 1, 0, 1, 0, 1, 0, 2,\n",
       "       1, 0, 1, 1, 1, 0, 0, 0, 3, 0, 0, 0, 0, 0, 0, 0, 0, 0, 0, 0, 0, 0,\n",
       "       0, 0, 0, 0, 0, 0, 0, 0, 0, 0, 0, 0, 0, 0, 0, 0, 0, 0, 2, 0, 0, 0,\n",
       "       0, 3, 1, 0, 0, 0, 0, 0, 0, 3, 3, 0, 0, 0, 0, 0, 0, 1, 1, 3, 0, 0,\n",
       "       0, 1, 0, 0, 0, 1, 0, 0, 0, 0, 0, 0, 0, 1, 0, 0, 0, 0, 0, 0, 0, 0,\n",
       "       0, 0, 0, 0, 0, 0, 0, 0, 0, 0, 1, 1, 0, 0, 0, 1, 1, 4, 1, 0, 1, 1,\n",
       "       1], dtype=int32)"
      ]
     },
     "execution_count": 12,
     "metadata": {},
     "output_type": "execute_result"
    }
   ],
   "source": [
    "cluster_labels"
   ]
  },
  {
   "cell_type": "code",
   "execution_count": 17,
   "id": "a4507892",
   "metadata": {},
   "outputs": [
    {
     "data": {
      "image/png": "[encoded data removed]",
      "text/plain": [
       "<Figure size 1000x800 with 1 Axes>"
      ]
     },
     "metadata": {},
     "output_type": "display_data"
    }
   ],
   "source": [
    "# --- PCAによる可視化 ---\n",
    "pca = PCA(n_components=2, random_state=42)\n",
    "features_pca = pca.fit_transform(features_scaled)\n",
    "plt.figure(figsize=(10, 8))\n",
    "scatter = plt.scatter(features_pca[:, 0], features_pca[:, 1], c=cluster_labels, cmap='viridis', alpha=0.7)\n",
    "plt.legend(handles=[plt.scatter([],[], marker='o', color=scatter.cmap(scatter.norm(label)), label=f'クラスタ {label}') for label in np.unique(cluster_labels)], title=\"クラスタ\")\n",
    "plt.title(f'k-means クラスタリング結果 (k={optimal_k_val}, PCAで2次元化)')\n",
    "plt.xlabel(\"PCA 第1主成分\")\n",
    "plt.ylabel(\"PCA 第2主成分\")\n",
    "plt.grid(True)\n",
    "plt.savefig(OUTPUT_GRAPH_PATH)\n",
    "plt.show()"
   ]
  },
  {
   "cell_type": "code",
   "execution_count": 19,
   "id": "a359a164",
   "metadata": {},
   "outputs": [
    {
     "name": "stdout",
     "output_type": "stream",
     "text": [
      "クラスタリング結果を /home/ubuntu/cabochaProject/clustering_results.xlsx に保存しました。\n"
     ]
    }
   ],
   "source": [
    "# --- 結果の保存 ---\n",
    "df_results = pd.DataFrame({'元のテキスト': texts_to_cluster})\n",
    "df_features = pd.DataFrame(features_matrix_imputed, columns=[\"熟語編集距離\", \"単語3-gram異常度\", \"Token依存距離分散\", \"係り受けスコア分散\", \"辞書照合\"])\n",
    "df_results = pd.concat([df_results, df_features], axis=1)\n",
    "df_results['クラスタラベル'] = cluster_labels\n",
    "\n",
    "# クラスタラベル順で並び替え\n",
    "sorted_df_results = df_results.sort_values('クラスタラベル').reset_index(drop=True)\n",
    "\n",
    "# --- クラスタ内分散・クラスタ間分散・クラスタ別特徴量平均の計算 ---\n",
    "import numpy as np\n",
    "import pandas as pd\n",
    "\n",
    "# クラスタごとの特徴量平均\n",
    "cluster_feature_means = sorted_df_results.groupby('クラスタラベル').mean(numeric_only=True)\n",
    "cluster_feature_means.index.name = 'クラスタラベル'\n",
    "\n",
    "# 全体平均\n",
    "overall_mean = df_features.mean().values\n",
    "\n",
    "# クラスタ内分散（全クラスタの加重平均、特徴量ごと）\n",
    "within_var = 0.0\n",
    "for k, group in sorted_df_results.groupby('クラスタラベル'):\n",
    "    n_k = len(group)\n",
    "    if n_k > 1:\n",
    "        within_var += n_k * group[df_features.columns].var(ddof=0).values\n",
    "within_var = within_var / len(sorted_df_results) if len(sorted_df_results) > 0 else np.zeros(df_features.shape[1])\n",
    "within_var_df = pd.DataFrame([within_var], columns=[f\"クラスタ内分散_{col}\" for col in df_features.columns])\n",
    "\n",
    "# クラスタ間分散（1値のみ）\n",
    "mean_vectors = cluster_feature_means.values\n",
    "n_clusters = mean_vectors.shape[0]\n",
    "if n_clusters > 1:\n",
    "    between_var = np.mean([np.sum((mean_vec - overall_mean) ** 2) for mean_vec in mean_vectors])\n",
    "else:\n",
    "    between_var = 0.0\n",
    "between_var_df = pd.DataFrame([[between_var]], columns=[\"クラスタ間分散(全特徴量ベクトル)\"])\n",
    "\n",
    "# Excel出力\n",
    "with pd.ExcelWriter(OUTPUT_EXCEL_PATH, engine='openpyxl', mode='w') as writer:\n",
    "    sorted_df_results.to_excel(writer, index=False, sheet_name='クラスタリング結果')\n",
    "    cluster_feature_means.to_excel(writer, sheet_name='クラスタ別特徴量平均')\n",
    "    within_var_df.to_excel(writer, index=False, sheet_name='クラスタ内分散')\n",
    "    between_var_df.to_excel(writer, index=False, sheet_name='クラスタ間分散')\n",
    "print(f\"クラスタリング結果を {OUTPUT_EXCEL_PATH} に保存しました。\")"
   ]
  }
 ],
 "metadata": {
  "kernelspec": {
   "display_name": "Python 3",
   "language": "python",
   "name": "python3"
  },
  "language_info": {
   "codemirror_mode": {
    "name": "ipython",
    "version": 3
   },
   "file_extension": ".py",
   "mimetype": "text/x-python",
   "name": "python",
   "nbconvert_exporter": "python",
   "pygments_lexer": "ipython3",
   "version": "3.10.12"
  }
 },
 "nbformat": 4,
 "nbformat_minor": 5
}
